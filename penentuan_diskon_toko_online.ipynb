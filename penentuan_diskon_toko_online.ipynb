{
 "cells": [
  {
   "cell_type": "code",
   "execution_count": 2,
   "id": "f0a60364-39b9-4e8d-abaa-81466d576efa",
   "metadata": {},
   "outputs": [],
   "source": [
    "import numpy as np\n",
    "import skfuzzy as fuzz\n",
    "from skfuzzy import control as ctrl"
   ]
  },
  {
   "cell_type": "code",
   "execution_count": 3,
   "id": "9ba02f69-a7ef-4b88-a52e-b5e539a27077",
   "metadata": {},
   "outputs": [],
   "source": [
    "# Define fuzzy variables\n",
    "jumlah_pembelian = ctrl.Antecedent(np.arange(0, 2001, 1), 'jumlah_pembelian')\n",
    "frekuensi_pelanggan = ctrl.Antecedent(np.arange(0, 21, 1), 'frekuensi_pelanggan')\n",
    "diskon = ctrl.Consequent(np.arange(0, 51, 1), 'diskon')\n"
   ]
  },
  {
   "cell_type": "code",
   "execution_count": 4,
   "id": "2dd6df2d-0efc-4872-90c6-fb35b5956b49",
   "metadata": {},
   "outputs": [],
   "source": [
    "# Define fuzzy sets for jumlah_pembelian\n",
    "jumlah_pembelian['rendah'] = fuzz.trapmf(jumlah_pembelian.universe, [0, 0, 300, 500])\n",
    "jumlah_pembelian['sedang'] = fuzz.trimf(jumlah_pembelian.universe, [300, 800, 1000])\n",
    "jumlah_pembelian['tinggi'] = fuzz.trapmf(jumlah_pembelian.universe, [800, 1000, 2000, 2000])"
   ]
  },
  {
   "cell_type": "code",
   "execution_count": 5,
   "id": "1096d1a6-b989-4417-9387-f7fd82175553",
   "metadata": {},
   "outputs": [],
   "source": [
    "# Define fuzzy sets for frekuensi_pelanggan\n",
    "frekuensi_pelanggan['jarang'] = fuzz.trapmf(frekuensi_pelanggan.universe, [0, 0, 3, 5])\n",
    "frekuensi_pelanggan['rata-rata'] = fuzz.trimf(frekuensi_pelanggan.universe, [3, 8, 10])\n",
    "frekuensi_pelanggan['sering'] = fuzz.trapmf(frekuensi_pelanggan.universe, [8, 10, 20, 20])"
   ]
  },
  {
   "cell_type": "code",
   "execution_count": 6,
   "id": "fc59a8d1-85be-46ea-bd14-0cf509f62a35",
   "metadata": {},
   "outputs": [],
   "source": [
    "# Define fuzzy sets for diskon\n",
    "diskon['kecil'] = fuzz.trapmf(diskon.universe, [0, 0, 5, 10])\n",
    "diskon['sedang'] = fuzz.trimf(diskon.universe, [5, 15, 20])\n",
    "diskon['besar'] = fuzz.trapmf(diskon.universe, [15, 20, 50, 50])"
   ]
  },
  {
   "cell_type": "code",
   "execution_count": 7,
   "id": "ec75b6fd-036c-4368-aa5b-3dcf4ddaa41e",
   "metadata": {},
   "outputs": [],
   "source": [
    "# Define fuzzy rules\n",
    "rule1 = ctrl.Rule(jumlah_pembelian['rendah'] & frekuensi_pelanggan['jarang'], diskon['kecil'])\n",
    "rule2 = ctrl.Rule(jumlah_pembelian['sedang'] & frekuensi_pelanggan['rata-rata'], diskon['sedang'])\n",
    "rule3 = ctrl.Rule(jumlah_pembelian['tinggi'] | frekuensi_pelanggan['sering'], diskon['besar'])"
   ]
  },
  {
   "cell_type": "code",
   "execution_count": 8,
   "id": "ce105b80-c641-42dd-992a-ed6e7cb2fd9a",
   "metadata": {},
   "outputs": [],
   "source": [
    "# Create control system and simulation\n",
    "diskon_ctrl = ctrl.ControlSystem([rule1, rule2, rule3])\n",
    "diskon_sim = ctrl.ControlSystemSimulation(diskon_ctrl)"
   ]
  },
  {
   "cell_type": "code",
   "execution_count": 9,
   "id": "affdfccd-6f6a-409c-a4d2-d7bd669495f2",
   "metadata": {},
   "outputs": [],
   "source": [
    "# Input values\n",
    "jumlah_pembelian_input = 750  # in Rupiah (e.g., 750k)\n",
    "frekuensi_pelanggan_input = 7  # in times per month\n",
    "diskon_sim.input['jumlah_pembelian'] = jumlah_pembelian_input\n",
    "diskon_sim.input['frekuensi_pelanggan'] = frekuensi_pelanggan_input"
   ]
  },
  {
   "cell_type": "code",
   "execution_count": 11,
   "id": "f7a0d3b5-2f18-47d2-b53b-c4450029f58c",
   "metadata": {},
   "outputs": [
    {
     "name": "stdout",
     "output_type": "stream",
     "text": [
      "Diskon yang diberikan: 13.28%\n"
     ]
    }
   ],
   "source": [
    "# Compute output\n",
    "diskon_sim.compute()\n",
    "\n",
    "print(f\"Diskon yang diberikan: {diskon_sim.output['diskon']:.2f}%\")"
   ]
  },
  {
   "cell_type": "code",
   "execution_count": null,
   "id": "b134382f-07eb-4d30-9ded-7aec11897f72",
   "metadata": {},
   "outputs": [],
   "source": []
  }
 ],
 "metadata": {
  "kernelspec": {
   "display_name": "Python 3 (ipykernel)",
   "language": "python",
   "name": "python3"
  },
  "language_info": {
   "codemirror_mode": {
    "name": "ipython",
    "version": 3
   },
   "file_extension": ".py",
   "mimetype": "text/x-python",
   "name": "python",
   "nbconvert_exporter": "python",
   "pygments_lexer": "ipython3",
   "version": "3.12.6"
  }
 },
 "nbformat": 4,
 "nbformat_minor": 5
}
